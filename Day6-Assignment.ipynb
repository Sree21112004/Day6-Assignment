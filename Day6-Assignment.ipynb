{
 "cells": [
  {
   "cell_type": "markdown",
   "metadata": {},
   "source": [
    "# Day6- Assignment"
   ]
  },
  {
   "cell_type": "markdown",
   "metadata": {},
   "source": [
    "## Question1"
   ]
  },
  {
   "cell_type": "markdown",
   "metadata": {},
   "source": [
    "## For this challenge , Create a bank account class that has two attributes :"
   ]
  },
  {
   "cell_type": "markdown",
   "metadata": {},
   "source": [
    "#### *Owner Name\n",
    "\n",
    "### *Balance\n",
    "\n",
    "### And two Methods\n",
    "\n",
    "#### *Deposit\n",
    "\n",
    "#### *Withdraw\n",
    "\n",
    "### As an added requirement,withdrawels may not exceed the available balance.\n",
    "\n",
    "### Instantiate your class, make several deposits and withdrawals, and test to make sure the account can't be overdrawn.\n",
    "\n",
    "## Answer !\n"
   ]
  },
  {
   "cell_type": "code",
   "execution_count": 2,
   "metadata": {},
   "outputs": [
    {
     "name": "stdout",
     "output_type": "stream",
     "text": [
      "Hello!!! Welcome to the Deposit & Withdrawal Machine\n",
      "Account Holder Name - Sree Dharma\n",
      "Enter amount to be Deposited: 200000\n",
      "\n",
      "Amount Deposited: 200000.0\n",
      "Enter amount to be Withdrawn: 300000\n",
      "\n",
      "You Withdrew: 300000.0\n",
      "\n",
      "Net Available Balance= 400000.0\n"
     ]
    }
   ],
   "source": [
    "class Bank_Account: \n",
    "    def __init__(self): \n",
    "        self.balance=500000\n",
    "        print(\"Hello!!! Welcome to the Deposit & Withdrawal Machine\")\n",
    "        print(\"Account Holder Name - Sree Dharma\")\n",
    "\n",
    "    def deposit(self): \n",
    "        amount=float(input(\"Enter amount to be Deposited: \")) \n",
    "        self.balance += amount \n",
    "        print(\"\\nAmount Deposited:\",amount) \n",
    "\n",
    "    def withdraw(self): \n",
    "        amount = float(input(\"Enter amount to be Withdrawn: \")) \n",
    "        if self.balance>=amount: \n",
    "            self.balance-=amount \n",
    "            print(\"\\nYou Withdrew:\", amount) \n",
    "        else: \n",
    "            print(\"\\nInsufficient balance \") \n",
    "\n",
    "    def display(self): \n",
    "        print(\"\\nNet Available Balance=\",self.balance) \n",
    "        \n",
    "s = Bank_Account() \n",
    "\n",
    "s.deposit() \n",
    "s.withdraw() \n",
    "s.display()"
   ]
  },
  {
   "cell_type": "markdown",
   "metadata": {},
   "source": [
    "# Assignment No - 2"
   ]
  },
  {
   "cell_type": "markdown",
   "metadata": {},
   "source": [
    "## Question !"
   ]
  },
  {
   "cell_type": "markdown",
   "metadata": {},
   "source": [
    "### For This Challenge , Create a Cone Class that has two Attributes:"
   ]
  },
  {
   "cell_type": "markdown",
   "metadata": {},
   "source": [
    "### * r = Radius\n",
    "### * h = Height\n",
    "### and two methods\n",
    "### Volume = π r^2 8 (h/3)\n",
    "### Surface Area = π r^2 , Side = π r * √(r^2+h^2)"
   ]
  },
  {
   "cell_type": "markdown",
   "metadata": {},
   "source": [
    "## Answer "
   ]
  },
  {
   "cell_type": "code",
   "execution_count": 4,
   "metadata": {},
   "outputs": [
    {
     "name": "stdout",
     "output_type": "stream",
     "text": [
      "Volume Of Cone :  314.15926535897927\n",
      "Surface Area Of Cone :  282.7433388230814\n"
     ]
    }
   ],
   "source": [
    "import math \n",
    "pi = math.pi \n",
    " \n",
    "def volume(r, h): \n",
    "    return (1 / 3) * pi * r * r * h \n",
    " \n",
    "def surfacearea(r, s): \n",
    "    return pi * r * s + pi * r * r \n",
    " \n",
    "radius = float(5) \n",
    "height = float(12) \n",
    "slat_height = float(13) \n",
    "print( \"Volume Of Cone : \", volume(radius, height) ) \n",
    "print( \"Surface Area Of Cone : \", surfacearea(radius, slat_height) )"
   ]
  },
  {
   "cell_type": "markdown",
   "metadata": {},
   "source": [
    "# Thank You"
   ]
  }
 ],
 "metadata": {
  "kernelspec": {
   "display_name": "Python 3",
   "language": "python",
   "name": "python3"
  },
  "language_info": {
   "codemirror_mode": {
    "name": "ipython",
    "version": 3
   },
   "file_extension": ".py",
   "mimetype": "text/x-python",
   "name": "python",
   "nbconvert_exporter": "python",
   "pygments_lexer": "ipython3",
   "version": "3.8.3"
  }
 },
 "nbformat": 4,
 "nbformat_minor": 4
}
